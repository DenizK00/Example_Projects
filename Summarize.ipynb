{
 "cells": [
  {
   "cell_type": "code",
   "execution_count": 6,
   "id": "04da7ba8-846d-4ba3-8b2c-19f8a6efbab5",
   "metadata": {},
   "outputs": [],
   "source": [
    "from vosk import Model, KaldiRecognizer\n",
    "from pydub import AudioSegment\n",
    "import json\n",
    "import subprocess"
   ]
  },
  {
   "cell_type": "code",
   "execution_count": 7,
   "id": "2d0d0b3d-6168-460d-86fa-c88a6429a2ae",
   "metadata": {},
   "outputs": [],
   "source": [
    "FRAME_RATE = 16000\n",
    "CHANNELS = 1"
   ]
  },
  {
   "cell_type": "code",
   "execution_count": 8,
   "id": "ef0dac5b-0983-4462-af89-f848268e89fe",
   "metadata": {},
   "outputs": [
    {
     "name": "stdout",
     "output_type": "stream",
     "text": [
      "Requirement already satisfied: gensim in /Users/deniz/opt/anaconda3/lib/python3.9/site-packages (4.1.2)\n",
      "Requirement already satisfied: smart-open>=1.8.1 in /Users/deniz/opt/anaconda3/lib/python3.9/site-packages (from gensim) (5.1.0)\n",
      "Requirement already satisfied: scipy>=0.18.1 in /Users/deniz/opt/anaconda3/lib/python3.9/site-packages (from gensim) (1.7.3)\n",
      "Requirement already satisfied: numpy>=1.17.0 in /Users/deniz/opt/anaconda3/lib/python3.9/site-packages (from gensim) (1.21.5)\n",
      "Note: you may need to restart the kernel to use updated packages.\n"
     ]
    }
   ],
   "source": [
    "%pip install gensim"
   ]
  },
  {
   "cell_type": "code",
   "execution_count": 9,
   "id": "116d9537-c4c4-481d-ac74-93418b346f21",
   "metadata": {},
   "outputs": [],
   "source": [
    "def voice_recognition(filename):\n",
    "    model = Model(model_name=\"vosk-model-en-us-0.22\")\n",
    "    rec = KaldiRecognizer(model, FRAME_RATE)\n",
    "    rec.SetWords(True)\n",
    "    \n",
    "    mp3 = AudioSegment.from_mp3(filename)\n",
    "    mp3 = mp3.set_channels(CHANNELS)\n",
    "    mp3 = mp3.set_frame_rate(FRAME_RATE)\n",
    "    \n",
    "    step = 45000\n",
    "    transcript = \"\"\n",
    "    for i in range(0, len(mp3), step):\n",
    "        print(f\"Progress: {i/len(mp3)}\")\n",
    "        segment = mp3[i:i+step]\n",
    "        rec.AcceptWaveform(segment.raw_data)\n",
    "        result = rec.Result()\n",
    "        text = json.loads(result)[\"text\"]\n",
    "        transcript += text\n",
    "    \n",
    "    cased = subprocess.check_output('python punc/recasepunc.py predict punc/checkpoint', shell=True, text=True, input=transcript)\n",
    "    return cased\n",
    "        "
   ]
  },
  {
   "cell_type": "code",
   "execution_count": 10,
   "id": "18436a36-715b-44cd-b0c3-56097d7d5532",
   "metadata": {},
   "outputs": [
    {
     "name": "stderr",
     "output_type": "stream",
     "text": [
      "LOG (VoskAPI:ReadDataFiles():model.cc:213) Decoding params beam=13 max-active=7000 lattice-beam=6\n",
      "LOG (VoskAPI:ReadDataFiles():model.cc:216) Silence phones 1:2:3:4:5:11:12:13:14:15\n",
      "LOG (VoskAPI:RemoveOrphanNodes():nnet-nnet.cc:948) Removed 0 orphan nodes.\n",
      "LOG (VoskAPI:RemoveOrphanComponents():nnet-nnet.cc:847) Removing 0 orphan components.\n",
      "LOG (VoskAPI:ReadDataFiles():model.cc:248) Loading i-vector extractor from /Users/deniz/.cache/vosk/vosk-model-en-us-0.22/ivector/final.ie\n",
      "LOG (VoskAPI:ComputeDerivedVars():ivector-extractor.cc:183) Computing derived variables for iVector extractor\n",
      "LOG (VoskAPI:ComputeDerivedVars():ivector-extractor.cc:204) Done.\n",
      "LOG (VoskAPI:ReadDataFiles():model.cc:279) Loading HCLG from /Users/deniz/.cache/vosk/vosk-model-en-us-0.22/graph/HCLG.fst\n",
      "LOG (VoskAPI:ReadDataFiles():model.cc:294) Loading words from /Users/deniz/.cache/vosk/vosk-model-en-us-0.22/graph/words.txt\n",
      "LOG (VoskAPI:ReadDataFiles():model.cc:303) Loading winfo /Users/deniz/.cache/vosk/vosk-model-en-us-0.22/graph/phones/word_boundary.int\n",
      "LOG (VoskAPI:ReadDataFiles():model.cc:310) Loading subtract G.fst model from /Users/deniz/.cache/vosk/vosk-model-en-us-0.22/rescore/G.fst\n",
      "LOG (VoskAPI:ReadDataFiles():model.cc:312) Loading CARPA model from /Users/deniz/.cache/vosk/vosk-model-en-us-0.22/rescore/G.carpa\n",
      "LOG (VoskAPI:ReadDataFiles():model.cc:318) Loading RNNLM model from /Users/deniz/.cache/vosk/vosk-model-en-us-0.22/rnnlm/final.raw\n"
     ]
    },
    {
     "name": "stdout",
     "output_type": "stream",
     "text": [
      "Progress: 0.0\n",
      "Progress: 0.04024396787637053\n",
      "Progress: 0.08048793575274106\n",
      "Progress: 0.1207319036291116\n",
      "Progress: 0.16097587150548212\n",
      "Progress: 0.20121983938185264\n",
      "Progress: 0.2414638072582232\n",
      "Progress: 0.2817077751345937\n",
      "Progress: 0.32195174301096424\n",
      "Progress: 0.36219571088733477\n",
      "Progress: 0.4024396787637053\n",
      "Progress: 0.4426836466400758\n",
      "Progress: 0.4829276145164464\n",
      "Progress: 0.5231715823928169\n",
      "Progress: 0.5634155502691874\n",
      "Progress: 0.603659518145558\n",
      "Progress: 0.6439034860219285\n",
      "Progress: 0.684147453898299\n",
      "Progress: 0.7243914217746695\n",
      "Progress: 0.76463538965104\n",
      "Progress: 0.8048793575274106\n",
      "Progress: 0.8451233254037811\n",
      "Progress: 0.8853672932801516\n",
      "Progress: 0.9256112611565223\n",
      "Progress: 0.9658552290328928\n"
     ]
    },
    {
     "name": "stderr",
     "output_type": "stream",
     "text": [
      "LOG (VoskAPI:RebuildRepository():determinize-lattice-pruned.cc:283) Rebuilding repository.\n",
      "WARNING: reverting to cpu as cuda is not available\n",
      "Some weights of the model checkpoint at bert-base-uncased were not used when initializing BertModel: ['cls.seq_relationship.bias', 'cls.predictions.transform.dense.weight', 'cls.predictions.transform.LayerNorm.weight', 'cls.predictions.transform.dense.bias', 'cls.predictions.decoder.weight', 'cls.seq_relationship.weight', 'cls.predictions.bias', 'cls.predictions.transform.LayerNorm.bias']\n",
      "- This IS expected if you are initializing BertModel from the checkpoint of a model trained on another task or with another architecture (e.g. initializing a BertForSequenceClassification model from a BertForPreTraining model).\n",
      "- This IS NOT expected if you are initializing BertModel from the checkpoint of a model that you expect to be exactly identical (initializing a BertForSequenceClassification model from a BertForSequenceClassification model).\n"
     ]
    }
   ],
   "source": [
    "transcript = voice_recognition(\"Midnight_Gospel1.mp3\")"
   ]
  },
  {
   "cell_type": "code",
   "execution_count": 11,
   "id": "21ffd9ef-0a3a-488c-8f02-9d178b50cc09",
   "metadata": {},
   "outputs": [
    {
     "data": {
      "text/plain": [
       "'Good morni'"
      ]
     },
     "execution_count": 11,
     "metadata": {},
     "output_type": "execute_result"
    }
   ],
   "source": [
    "transcript[0:10]"
   ]
  },
  {
   "cell_type": "code",
   "execution_count": 12,
   "id": "375b8b39-4a5f-4330-888b-2f09b4b3ed1a",
   "metadata": {},
   "outputs": [
    {
     "data": {
      "text/plain": [
       "15256"
      ]
     },
     "execution_count": 12,
     "metadata": {},
     "output_type": "execute_result"
    }
   ],
   "source": [
    "len(transcript)"
   ]
  },
  {
   "cell_type": "code",
   "execution_count": 13,
   "id": "714217e5-6e03-4c37-bf6f-0acf4a01ec07",
   "metadata": {},
   "outputs": [
    {
     "data": {
      "text/plain": [
       "\"Good morning Simulation farmers. This is the panorama of keeping you warm on the ribbon and cool in your heart is a little melody from the old cuddle Cats with their classic It Let me up, Let me down, don ' t let me Good in the manner in which. Oh thanks for activating me, Master. Which simulated universe will you enter today ? Earth one, nine, four, three, Two, Due to an easily avoidable operator error, all beings on this Earthi have been destroyed, said deleting Earth Earth for one, six, Nine due to yet another operator error is undergoing a zombie apocalypse. You pick Glasses Man this sim as a twenty three charisma rating. Great choice, Targeting glasses Man, Avatar selection, screen lady Charlotte, Pig Lord, Mr. Left up Bobby Junior hot beach spotting Beach body selected, merging with simulator in three two thethat oh no Glasses Man, No no no please please don ' t be dead. I ' m sorry, Please will be taking a little classes and fixing the president The coup de faire cord you from I am fed CAS data cast bad data stream my data. It goes out to everyone in the system. It it goes into space. Sure, Ok, greatIt ' ll just take a second setup rather than wait what ? I guess ? I just want to thank you. First of all, a perfect man. I know you ' ve gotta be incredibly busy, right now with a zombie apocalypse happening MG zombies. I. I really don ' t want to talk about zombies. That ' s OK. What about the marijuana protesters ? Those assholes Yeah, first of all, people don ' t understand my point of view. They think somehow I ' m anti pot or anti legalization I ' m not actually pro either. I ' m. I ' m pro human liberty. I pro the American system, my pro letting the people determine their laws. I don ' t think this is fine to have a stR Somebody praised Press my face the mirror and said as it can be good or bad, I think it might end up beingkind of not so good for people. But so I ' ll deal with it or my blood pressure will. Okay, maybe we ' ll do what ? What Can ' t you see ? I ' m doing an interview with my name ' s Clancy. I gotta get back to classic zombies are inside then for improvement, just give me a rifle. I ' ll take care of it. You were saying Oh yeah. I read a recent study it said medical marijuana was associated with close to thirty percent fewer deaths. It ' s actually, it ' s actually more data has come into that. What ' s the data ? The data is if there ' s a lot of. If there ' s available recreational pot opiate use is way down. Help seventies. I know I saw that too and I thought, Oh this. This could be the answer. Would you mind following me outside ? This could be the answer to the opiate epidemic and the chronic pain thing I would much much rather see. People aren ' ta lot of pot and any of the pills that they ' re taking because the pill combo that they get on the. The opiate and the benzodiazepines and the sleepy medicine a kills absolutely. Good bye. But patients die of drug use. That ' s how they die today. Be perpetuates their pain and their and their their their their disabled by disable by theirs. They ' re helpless. Yet some people are on the couch or they smuggle out a puppet. Some people work just fine. One facet of marijuana that doesn ' t exist is that if you overdose on marijuana. Hello, Hello, thank you, Mr. President. Hello, thank you. You ' re gonna die. You don ' t die but you are dragged through yourone person on the roses in our weaknesses if you have overdue If you have a quote overdose. People say I feel paranoid and usually what they mean is the marijuana is showing all these parts of myself that I don ' t necessarily want to deal with right now. And I can read a lot of positive change for people now, not all the time. A lot of times I ' ve definitely been paranoid and the things I ' ve worried about are ridiculous and absurd. And when I sell wrap it ' s. I recognize that. But a lot of time. Some of the stuff I ' ve shown on a heavy dose of marijuana. I come out of that knowing. Shit. Man, I ' ve got to work on this. I need. Why am I not exercising ? I need to exercise more. This is ridiculous. Why am I going ? I ' m drinking a little too much right now. I need to slow down drinking. That also altered average. Talk to you about how II almost died on sleeping pills years and years and years ago. Oh god oh man. And there was a guy came to this party. I was at selling sleeping pounds at like twelve PM at a party. The worst thing you could ever do. Now go home. Well, yeah, and this is. How was your drink at ? Oh perfect. Good cabo And yeah, and I bought some from him. I don ' t even know why I would want to. Why would do that. Well aware of the fact that you should never, ever, ever, in a million years take benzos and drink. Never do it. It ' s what kills everybody. This is the death cabo Yeah. So I did it and I remember one of the death camp tattoo of the. I think I. I take one pill and then I ' m drinking and like feeling relaxed andbut I forgot this is the date for the event. This is how it kills the area you forget. And then there are the ones that you forget that. I let me just clarify my. I hate this idea of good drugs and bad drugs. There ' s no such thing as a good drug in her bedroom. There ' s the. There ' s this chemical that is neither good nor bad. It just exists out there. We either created or exist in nature. And then it ' s the relationship that humans have with a substance. That is. The issue is what our individual biology is and what it triggers. Whatnot That ' s the problem, like valium What if your need to have a colonoscopy Volume. A valuable drug. Rain. Really good if you ' re just drinking absinthe then partying and about to drive home. Really badyeah That usually not because value is good or bad. Because the circumstance on the relationship is bad. I ' ll never forget it. Man. I was laying in bed that night trying to remember how many of the pills I take in. As I ' m passing out. As I ' m passing out and then I realized. Oh, I can ' t move like I. I ' m. I ' m. If I wanted to get up right now I. I don ' t think that I could get up. And this is as I ' m fading out into darkness. And then, you know, I woke up the next day, thank God. And I was alive. But if I had vomited that I would have dads how they died. Yeah, it ' s called aspiration pneumonia. Or you could you. You ' d have to vomit a lot either. Sometimes it just be reflux Sometimes it just feels it goes down. The wrong tube, gets into your lungs and all the bacteria that ' s in your mouthhe goes into your lungs where it don ' t belong. You set up a pneumonia, become septic you want a shock and you die in about thirty minutes. It can happen. By God. Those things are evil, evil, evil, evil. In that situation. It ' s not the chemical chemical, just the nature of the. We ' re going to have to initiate alpha protocol. Onward. Charlotte, the privilege of serving you. And it ' s interesting. Out. I ' m clarifying Are sort of back and forth too becausei you know, I love being around people that helped me see the world through a new pair of glasses. And you ' re one of those people. Thank you. And so I ' m open to all the stuff you say and I think it ' s fascinating. And then I go play. You could hurt somebody that knows that. But what if the path The founding fathers talked about pumping mushrooms in the world. Horrible world leaders. And yeah, that ' s right. And we. And we said he could get inside and he ' d be happy at. EG realized what he was doing at that or he ' d go darker. Truth, the aura that always. We better get outta here for sure. The zombies are comic. My one of my favorite statements. His health is about accepting and perceiving anddealing with reality on reality ' s terms of job. Want to get on board now. You said something that stayed with me, which was the analogy of the elevator and hallucinated Yes, these that often or as as the metaphor is that it ' s compared to an elevator that takes you up to the very top floor of this building where this incredibly incredible party is happening. The doors open up. You see this amazing utopian nirvana. Never knew was there, you never seen it before, even knew it was there. And then the elevator. The thing dings the doors shutit comes back down, and suddenly you ' re screaming at people in traffic again. So that so that that ' s an analogy for what hallucinogens do. And this is again, my my vert vibe can contribution as I went. Yeah, but what if it doesn ' t let you off on the first floor and ends up two floors in the basement. Taking taking a lower as the. The doctor in me always worries about that. Yeah, And and let ' s say that it does take you lower. Let ' s say that you get to go up in a hot air balloon and see the very top of some beautiful mountain. And then the hot air balloon gets blown off course a little bit. You still seeing the top of the mountain. The independent values that. Are you fucking kidding me ? Me ? Fuck youcome on. Are you okay ? Yeah, just keep moving. You know what ' s weird ? Why are we even running from them ? They ' re pretty slow, I know. Look, we could just statelet legit standstill to come get a combat zombies. I dunno I think that ' s my hand, aunt. We got them all. So then I asked the question, So how do we get there in a way that we ' re control over ? We could. Yeah, that ' s that ' s the big question. I think it ' s a lotta things. I think I am right now and are really into this type of meditation, which isit ' s just the process of sitting still, watching your breath and being very aware of your thoughts, emotions, and the way your body feels. And it ' s just this. Something called mindfulness is the practice of mindfulness which is just watching the way that you act in the way that you feel and the way that you think. I think this is the cue and becoming aware of the roots of a lot of the emotions that exist in you. Especially for me. Like I get angry and I will have like angry outbursts sometimes. Yeah, I thank you for looking looking perplexed That happens. It happens just sitting by yourself. Anger, what will come out or is it like traffic or no traffic ? It ' s gotten much better. But I mean when I was much younger I was justan angry person. So I would like I can remember like my printer didn ' t work one day. And I remember screaming alone in my apartment, breaking my freighter and just a rage. And that that ' s the thing that ' s inside of me. And that ' s why psychedelics have been very useful to thethe get in the softball. But also meditation has been incredibly useful. Because now I can sit and I can meditate and then maybe the dogs will write while I meditate I can watch the irritation sort of flour inside of me. And then when it ' s there, they say look at it as though you ' re sitting in a forest and you ' re getting to watch a rare animal walking out and then clearing And instead of you know, as most of us do, an anger comes in. We react to it. We go into reactivity Like maybe you ' d stop meditating and scream at your dogs. Or you would do something like make them aware. Behavior of the Emperorso You just watch the. You watch the Buddha ' s. Compares anger to sweet flower with bitter roots, and we follow the sweetness down down in labour. Yeah, she ' s like, okay, okay, okay, you ' re I need anything. Just breathe. We were planning a water birth forever. Maybe we can find something. The. What ? What are we talking about ? He was talking about meditation or something. Yeah, or just watching your feelings. You know you follow the feeling down down into the poisonous roomroutes that do that kind of feeling way or an insight way if that makes sense. And there were useful the feelings. Or do you have some sort of specific. Oh, that reminds me of some experience or something. Well, it ' s called noting is what. So you would you can what you know, It ' s like it ' s just think about an emotion either these really kind of ambiguous cities, bodily base things you ' re faintly aware of many times. Yeah, exactly. So it ' s what is that thing ? So this is the practice of taking a microscope and looking into the recurring emotional patterns that are happening inside of you. Because most of the time, if you have a negative emotion, you ' ll try to avoid you try to move onto the next activity when some kind of you ' re always in his de kamp somit happens, we don ' t turn our backs. What in. Zoom in on the thing and see what is this fractal and it ' s really an anger as practice just and push know you couldn ' t do briefings before. Great, isn ' t it ? Bruno, The Get outta here in Buddhism, the ideas, all of those mental forms of analysis of these things are secondary to the very simple observation of the way any emotional state or thought or bodily feeling as a similar pattern, heightened, heightened, dissipates and goes right for me. A lot of that magical stuff you ' re talking abouthappens in an interpersonal context. I ' m the kind of person that it ' s very difficult for me to stay with some of those things unless as a presence the are all so people are viewed as you say, my field these days and most people practice. Don ' t do it as well as what you ' re described. What you ' re saying, though, is a big part of the practice too. You ' re talking about the song or the spiritual community which is acknowledged in Buddhism. To. What ' s important is let ' s encourage each other to get as close to the truth as we can or as you mentioned earlier, meeting reality on reality ' s turn. I think the big surprise there was like, oh, reality sucks. The world sucks. Everything ' s gone. But we ' re trying to do this process where we sort of keep going backwardand until we can ' t look at ourselves anymore. We want to go to. It is complete observers state until you get to the awareness of awareness. That ' s it. And then you become pure awareness And the concept is that is what we really are in this entire material universe, including our body, is a kind of. And then for no and Finland. I can ' t say phenomenological phenomenological field of phenomena. Feel the phenomena being encapsulated within this consciousness and so that the idea that I am alone or the idea that I am an individual is actually. Interestingly enough, you ' re already not. It ' s false, it ' s. It ' s a distortion. Is your. The thing and the observer are simultaneously meeting together, and that ' s what creates the illusion of souls. I mean, if thethe universe was a dolphin, then basically our bodies would be a fishing net. More. All kind of entangled in ourselves. You feel shit like that when you ' re high on acid. Yes, you do the. Thank you so much for being a great guest. The Avenue Last words, Your words are closer to using The drug, the might theisrael go to the Holy see. That guts ripped out. And yet here I am all in one piece. Thank you so much ! Oh great denizens of the multiverse for eliciting to mid night gospel into my one subscriber Her not Jensen, I live for you. You ' re the reason I wake up in the morning with a smile on my face so keep listening. Er nog I ' ll see in your dreams. I love being around people that helped me see the world through a new pair of glasses or one of those people.\\n\""
      ]
     },
     "execution_count": 13,
     "metadata": {},
     "output_type": "execute_result"
    }
   ],
   "source": [
    "transcript"
   ]
  },
  {
   "cell_type": "code",
   "execution_count": 3,
   "id": "f09b3425-edc6-4008-bf4d-86e089f39cf2",
   "metadata": {},
   "outputs": [],
   "source": [
    "import summarizers"
   ]
  },
  {
   "cell_type": "code",
   "execution_count": 4,
   "id": "664b1bc0-26a0-4302-b725-d9f45bb6e57d",
   "metadata": {},
   "outputs": [
    {
     "data": {
      "application/vnd.jupyter.widget-view+json": {
       "model_id": "787112ad9fbc4ac19615681096bd4663",
       "version_major": 2,
       "version_minor": 0
      },
      "text/plain": [
       "Downloading:   0%|          | 0.00/1.61k [00:00<?, ?B/s]"
      ]
     },
     "metadata": {},
     "output_type": "display_data"
    },
    {
     "data": {
      "application/vnd.jupyter.widget-view+json": {
       "model_id": "494acd42e2444c7aa0f1d09b12837d7c",
       "version_major": 2,
       "version_minor": 0
      },
      "text/plain": [
       "Downloading:   0%|          | 0.00/1.63G [00:00<?, ?B/s]"
      ]
     },
     "metadata": {},
     "output_type": "display_data"
    },
    {
     "data": {
      "application/vnd.jupyter.widget-view+json": {
       "model_id": "7f086d99290e4f068eef2bbf1ac37eb9",
       "version_major": 2,
       "version_minor": 0
      },
      "text/plain": [
       "Downloading:   0%|          | 0.00/26.0 [00:00<?, ?B/s]"
      ]
     },
     "metadata": {},
     "output_type": "display_data"
    },
    {
     "data": {
      "application/vnd.jupyter.widget-view+json": {
       "model_id": "4d7bee9e40d245408735309e9e66f5cb",
       "version_major": 2,
       "version_minor": 0
      },
      "text/plain": [
       "Downloading:   0%|          | 0.00/1.36M [00:00<?, ?B/s]"
      ]
     },
     "metadata": {},
     "output_type": "display_data"
    },
    {
     "data": {
      "application/vnd.jupyter.widget-view+json": {
       "model_id": "2339ba9c67b34c4389586f16dd0ee2b8",
       "version_major": 2,
       "version_minor": 0
      },
      "text/plain": [
       "Downloading:   0%|          | 0.00/2.00 [00:00<?, ?B/s]"
      ]
     },
     "metadata": {},
     "output_type": "display_data"
    },
    {
     "data": {
      "application/vnd.jupyter.widget-view+json": {
       "model_id": "b895297ebf78403b8f86ca1a85856bc5",
       "version_major": 2,
       "version_minor": 0
      },
      "text/plain": [
       "Downloading:   0%|          | 0.00/85.0 [00:00<?, ?B/s]"
      ]
     },
     "metadata": {},
     "output_type": "display_data"
    },
    {
     "name": "stderr",
     "output_type": "stream",
     "text": [
      "The tokenizer class you load from this checkpoint is not the same type as the class this function is called from. It may result in unexpected tokenization. \n",
      "The tokenizer class you load from this checkpoint is 'BartTokenizer'. \n",
      "The class this function is called from is 'PreTrainedTokenizerFast'.\n"
     ]
    }
   ],
   "source": [
    "summarizer = summarizers.Summarizers(\"normal\")"
   ]
  },
  {
   "cell_type": "code",
   "execution_count": 14,
   "id": "7e066aca-f70e-47c0-b170-5a8ecd223fa0",
   "metadata": {},
   "outputs": [],
   "source": [
    "split = transcript.split(\" \")\n",
    "docs = []\n",
    "\n",
    "for i in range(0, len(split), 400):\n",
    "    segment = \" \".join(split[i:(i+400)])\n",
    "    docs.append(segment)"
   ]
  },
  {
   "cell_type": "code",
   "execution_count": 18,
   "id": "8cbd34db-acbc-4184-add3-ba2cf9352dcc",
   "metadata": {},
   "outputs": [],
   "source": [
    "summaries = []"
   ]
  },
  {
   "cell_type": "code",
   "execution_count": 19,
   "id": "4f837daa-2f56-4ad0-9369-d2c5d021bafa",
   "metadata": {},
   "outputs": [],
   "source": [
    "summaries.append(summarizer(transcript[0: 1020]))"
   ]
  },
  {
   "cell_type": "code",
   "execution_count": 21,
   "id": "a1fa3543-9015-4409-a60a-75e51d39f2d0",
   "metadata": {},
   "outputs": [
    {
     "data": {
      "text/plain": [
       "15256"
      ]
     },
     "execution_count": 21,
     "metadata": {},
     "output_type": "execute_result"
    }
   ],
   "source": [
    "len(transcript)"
   ]
  },
  {
   "cell_type": "code",
   "execution_count": 23,
   "id": "67970ab4-b391-417a-8a8e-83c77a20ea56",
   "metadata": {},
   "outputs": [
    {
     "ename": "TypeError",
     "evalue": "string indices must be integers",
     "output_type": "error",
     "traceback": [
      "\u001b[0;31m---------------------------------------------------------------------------\u001b[0m",
      "\u001b[0;31mTypeError\u001b[0m                                 Traceback (most recent call last)",
      "Input \u001b[0;32mIn [23]\u001b[0m, in \u001b[0;36m<cell line: 1>\u001b[0;34m()\u001b[0m\n\u001b[0;32m----> 1\u001b[0m summary \u001b[38;5;241m=\u001b[39m \u001b[38;5;124;43m\"\u001b[39;49m\u001b[38;5;130;43;01m\\n\u001b[39;49;00m\u001b[38;5;130;43;01m\\n\u001b[39;49;00m\u001b[38;5;124;43m\"\u001b[39;49m\u001b[38;5;241;43m.\u001b[39;49m\u001b[43mjoin\u001b[49m\u001b[43m(\u001b[49m\u001b[43mitem\u001b[49m\u001b[43m[\u001b[49m\u001b[38;5;124;43m\"\u001b[39;49m\u001b[38;5;124;43msummary_text\u001b[39;49m\u001b[38;5;124;43m\"\u001b[39;49m\u001b[43m]\u001b[49m\u001b[43m \u001b[49m\u001b[38;5;28;43;01mfor\u001b[39;49;00m\u001b[43m \u001b[49m\u001b[43mitem\u001b[49m\u001b[43m \u001b[49m\u001b[38;5;129;43;01min\u001b[39;49;00m\u001b[43m \u001b[49m\u001b[43msummaries\u001b[49m\u001b[43m)\u001b[49m\n",
      "Input \u001b[0;32mIn [23]\u001b[0m, in \u001b[0;36m<genexpr>\u001b[0;34m(.0)\u001b[0m\n\u001b[0;32m----> 1\u001b[0m summary \u001b[38;5;241m=\u001b[39m \u001b[38;5;124m\"\u001b[39m\u001b[38;5;130;01m\\n\u001b[39;00m\u001b[38;5;130;01m\\n\u001b[39;00m\u001b[38;5;124m\"\u001b[39m\u001b[38;5;241m.\u001b[39mjoin(\u001b[43mitem\u001b[49m\u001b[43m[\u001b[49m\u001b[38;5;124;43m\"\u001b[39;49m\u001b[38;5;124;43msummary_text\u001b[39;49m\u001b[38;5;124;43m\"\u001b[39;49m\u001b[43m]\u001b[49m \u001b[38;5;28;01mfor\u001b[39;00m item \u001b[38;5;129;01min\u001b[39;00m summaries)\n",
      "\u001b[0;31mTypeError\u001b[0m: string indices must be integers"
     ]
    }
   ],
   "source": [
    "summary = \"\\n\\n\".join(item[\"summary_text\"] for item in summaries)"
   ]
  },
  {
   "cell_type": "code",
   "execution_count": null,
   "id": "1bb9f65c-8926-4907-b8ff-3f70eca6dd8b",
   "metadata": {},
   "outputs": [],
   "source": []
  },
  {
   "cell_type": "code",
   "execution_count": null,
   "id": "c4648f3b-33c1-444f-a3da-5ea4df1ef003",
   "metadata": {},
   "outputs": [],
   "source": []
  }
 ],
 "metadata": {
  "kernelspec": {
   "display_name": "Python 3 (ipykernel)",
   "language": "python",
   "name": "python3"
  },
  "language_info": {
   "codemirror_mode": {
    "name": "ipython",
    "version": 3
   },
   "file_extension": ".py",
   "mimetype": "text/x-python",
   "name": "python",
   "nbconvert_exporter": "python",
   "pygments_lexer": "ipython3",
   "version": "3.9.12"
  }
 },
 "nbformat": 4,
 "nbformat_minor": 5
}
